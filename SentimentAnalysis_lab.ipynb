{
 "cells": [
  {
   "cell_type": "markdown",
   "metadata": {},
   "source": [
    " # <center>Sentiment Analysis_Lab3\n"
   ]
  },
  {
   "cell_type": "markdown",
   "metadata": {},
   "source": [
    "### Name : COULIBALY Adama"
   ]
  },
  {
   "cell_type": "markdown",
   "metadata": {},
   "source": [
    "### Objectif : Train your own mini sentiment classifier on the US Airline Tweets dataset.\n",
    "\n",
    "#### You are free to use any approach or a combination of approaches (pre-trained models, traditional machine learning, deep learning)."
   ]
  },
  {
   "cell_type": "code",
   "execution_count": 1,
   "metadata": {},
   "outputs": [],
   "source": [
    "# -- 1. Imports --"
   ]
  },
  {
   "cell_type": "code",
   "execution_count": 2,
   "metadata": {},
   "outputs": [],
   "source": [
    "# -- 2. Load Dataset --"
   ]
  },
  {
   "cell_type": "code",
   "execution_count": 3,
   "metadata": {},
   "outputs": [],
   "source": [
    "# -- 3. Explore Data --"
   ]
  },
  {
   "cell_type": "code",
   "execution_count": 4,
   "metadata": {},
   "outputs": [],
   "source": [
    "# -- 4. Preprocess Text --"
   ]
  },
  {
   "cell_type": "code",
   "execution_count": 5,
   "metadata": {},
   "outputs": [],
   "source": [
    "# -- 5. Train Your Own Classifier(s)"
   ]
  },
  {
   "cell_type": "markdown",
   "metadata": {},
   "source": [
    "### 🌟 Once you're done, don't forget to add it to your CV:\n",
    "#### Project: Sentiment Analysis on US Airline Tweets\n",
    "#### Tools: Python, pandas, scikit-learn, Hugging Face transformers...."
   ]
  },
  {
   "cell_type": "markdown",
   "metadata": {},
   "source": [
    "### Bonus Tip\n",
    "\n",
    "** Save you final model (.pkl or Hugging Face format) and deploy it.\n",
    "\n",
    "** You can also publish a small portfolio project on you GitHub."
   ]
  },
  {
   "cell_type": "code",
   "execution_count": 6,
   "metadata": {},
   "outputs": [],
   "source": [
    "# Import necessary libraries\n",
    "import pandas as pd"
   ]
  },
  {
   "cell_type": "code",
   "execution_count": 7,
   "metadata": {},
   "outputs": [
    {
     "data": {
      "text/html": [
       "<div>\n",
       "<style scoped>\n",
       "    .dataframe tbody tr th:only-of-type {\n",
       "        vertical-align: middle;\n",
       "    }\n",
       "\n",
       "    .dataframe tbody tr th {\n",
       "        vertical-align: top;\n",
       "    }\n",
       "\n",
       "    .dataframe thead th {\n",
       "        text-align: right;\n",
       "    }\n",
       "</style>\n",
       "<table border=\"1\" class=\"dataframe\">\n",
       "  <thead>\n",
       "    <tr style=\"text-align: right;\">\n",
       "      <th></th>\n",
       "      <th>Tweets</th>\n",
       "      <th>Manually_Annotated</th>\n",
       "    </tr>\n",
       "  </thead>\n",
       "  <tbody>\n",
       "    <tr>\n",
       "      <th>0</th>\n",
       "      <td>@VirginAmerica What @dhepburn said.</td>\n",
       "      <td>Neutral</td>\n",
       "    </tr>\n",
       "    <tr>\n",
       "      <th>1</th>\n",
       "      <td>@VirginAmerica plus you've added commercials t...</td>\n",
       "      <td>Positive</td>\n",
       "    </tr>\n",
       "    <tr>\n",
       "      <th>2</th>\n",
       "      <td>@VirginAmerica I didn't today... Must mean I n...</td>\n",
       "      <td>Neutral</td>\n",
       "    </tr>\n",
       "    <tr>\n",
       "      <th>3</th>\n",
       "      <td>@VirginAmerica it's really aggressive to blast...</td>\n",
       "      <td>Negative</td>\n",
       "    </tr>\n",
       "    <tr>\n",
       "      <th>4</th>\n",
       "      <td>@VirginAmerica and it's a really big bad thing...</td>\n",
       "      <td>Negative</td>\n",
       "    </tr>\n",
       "  </tbody>\n",
       "</table>\n",
       "</div>"
      ],
      "text/plain": [
       "                                              Tweets Manually_Annotated\n",
       "0                @VirginAmerica What @dhepburn said.            Neutral\n",
       "1  @VirginAmerica plus you've added commercials t...           Positive\n",
       "2  @VirginAmerica I didn't today... Must mean I n...            Neutral\n",
       "3  @VirginAmerica it's really aggressive to blast...           Negative\n",
       "4  @VirginAmerica and it's a really big bad thing...           Negative"
      ]
     },
     "execution_count": 7,
     "metadata": {},
     "output_type": "execute_result"
    }
   ],
   "source": [
    "# Import Data\n",
    "df = pd.read_excel(\"US_Airline_Tweets.xlsx\")\n",
    "df.head()"
   ]
  },
  {
   "cell_type": "code",
   "execution_count": 8,
   "metadata": {},
   "outputs": [
    {
     "data": {
      "text/plain": [
       "(1000, 2)"
      ]
     },
     "execution_count": 8,
     "metadata": {},
     "output_type": "execute_result"
    }
   ],
   "source": [
    "df.shape"
   ]
  },
  {
   "cell_type": "code",
   "execution_count": 9,
   "metadata": {},
   "outputs": [],
   "source": [
    "text1 = df.loc[0, \"Tweets\"]\n",
    "text2 = df.loc[1, \"Tweets\"]\n",
    "text3 = df.loc[3, \"Tweets\"]"
   ]
  },
  {
   "cell_type": "markdown",
   "metadata": {},
   "source": [
    "## Using RoBERTa"
   ]
  },
  {
   "cell_type": "code",
   "execution_count": 10,
   "metadata": {},
   "outputs": [],
   "source": [
    "#! pip install transformers --quiet"
   ]
  },
  {
   "cell_type": "code",
   "execution_count": 11,
   "metadata": {},
   "outputs": [
    {
     "name": "stderr",
     "output_type": "stream",
     "text": [
      "c:\\Users\\ADAMA\\Desktop\\Sentiment analysis\\env\\Lib\\site-packages\\tqdm\\auto.py:21: TqdmWarning: IProgress not found. Please update jupyter and ipywidgets. See https://ipywidgets.readthedocs.io/en/stable/user_install.html\n",
      "  from .autonotebook import tqdm as notebook_tqdm\n"
     ]
    }
   ],
   "source": [
    "from transformers import pipeline"
   ]
  },
  {
   "cell_type": "code",
   "execution_count": 12,
   "metadata": {},
   "outputs": [],
   "source": [
    "#import torch\n",
    "#from transformers import BertModel, BertConfig\n",
    "\n",
    "# Initializing a BERT bert-base-uncased style configuration\n",
    "#configuration = BertConfig()\n",
    "\n",
    "# Initializing a model from the bert-base-uncased style configuration\n",
    "#model = BertModel(configuration)\n",
    "\n",
    "# Accessing the model configuration\n",
    "#configuration = model.config"
   ]
  },
  {
   "cell_type": "code",
   "execution_count": 13,
   "metadata": {},
   "outputs": [
    {
     "name": "stderr",
     "output_type": "stream",
     "text": [
      "No model was supplied, defaulted to distilbert/distilbert-base-uncased-finetuned-sst-2-english and revision 714eb0f (https://huggingface.co/distilbert/distilbert-base-uncased-finetuned-sst-2-english).\n",
      "Using a pipeline without specifying a model name and revision in production is not recommended.\n",
      "Device set to use cpu\n"
     ]
    },
    {
     "name": "stdout",
     "output_type": "stream",
     "text": [
      "Texte : @VirginAmerica What @dhepburn said. Résultat : {'label': 'POSITIVE', 'score': 0.8633629679679871}\n",
      "\n",
      "Texte : @VirginAmerica plus you've added commercials to the experience... tacky. Résultat : {'label': 'POSITIVE', 'score': 0.6070859432220459}\n",
      "\n",
      "Texte : @VirginAmerica it's really aggressive to blast obnoxious \"entertainment\" in your guests' faces &amp; they have little recourse Résultat : {'label': 'NEGATIVE', 'score': 0.9973449110984802}\n",
      "\n"
     ]
    }
   ],
   "source": [
    "#!pip install transformers --quiet\n",
    "\n",
    "from transformers import pipeline\n",
    "\n",
    "# Pipeline d’analyse de sentiments\n",
    "classifier = pipeline(\"sentiment-analysis\")\n",
    "\n",
    "# Exemple\n",
    "texts = [\n",
    "    text1,\n",
    "    text2,\n",
    "    text3\n",
    "]\n",
    "\n",
    "results = classifier(texts)\n",
    "for text, result in zip(texts, results):\n",
    "    print(f\"Texte : {text} Résultat : {result}\\n\")"
   ]
  },
  {
   "cell_type": "code",
   "execution_count": 14,
   "metadata": {},
   "outputs": [
    {
     "name": "stderr",
     "output_type": "stream",
     "text": [
      "Device set to use cpu\n"
     ]
    },
    {
     "name": "stdout",
     "output_type": "stream",
     "text": [
      "Texte : @VirginAmerica What @dhepburn said. Résultat : {'label': 'POSITIVE', 'score': 0.8633629679679871}\n",
      "\n",
      "Texte : @VirginAmerica plus you've added commercials to the experience... tacky. Résultat : {'label': 'POSITIVE', 'score': 0.6070859432220459}\n",
      "\n",
      "Texte : @VirginAmerica it's really aggressive to blast obnoxious \"entertainment\" in your guests' faces &amp; they have little recourse Résultat : {'label': 'NEGATIVE', 'score': 0.9973449110984802}\n",
      "\n"
     ]
    }
   ],
   "source": [
    "#! pip install tensorflow --quiet\n",
    "\n",
    "# Initialisation du pipeline pour l'analyse de sentiment avec RoBERTa\n",
    "analyse_sentiment = pipeline(\"sentiment-analysis\", model=\"cardiffnlp/twitter-roberta-base-sentiment\")\n",
    "\n",
    "# Exemple\n",
    "texts = [\n",
    "    text1,\n",
    "    text2,\n",
    "    text3\n",
    "]\n",
    "\n",
    "results = classifier(texts)\n",
    "for text, result in zip(texts, results):\n",
    "    print(f\"Texte : {text} Résultat : {result}\\n\")"
   ]
  },
  {
   "cell_type": "code",
   "execution_count": 15,
   "metadata": {},
   "outputs": [],
   "source": [
    "X = df[\"Tweets\"]\n",
    "y = df[\"Manually_Annotated\"]"
   ]
  },
  {
   "cell_type": "markdown",
   "metadata": {},
   "source": [
    "### Evaluate BERT Model"
   ]
  },
  {
   "cell_type": "code",
   "execution_count": null,
   "metadata": {},
   "outputs": [],
   "source": [
    "from sklearn.metrics import classification_report, confusion_matrix \n",
    "from sklearn.metrics import accuracy_score, f1_score, precision_score, recall_score\n",
    "from sklearn.metrics import ConfusionMatrixDisplay  \n",
    "#import matplotlib.pyplot as plt\n",
    "#import seaborn as sns\n",
    "import numpy as np"
   ]
  },
  {
   "cell_type": "code",
   "execution_count": null,
   "metadata": {},
   "outputs": [],
   "source": [
    "results_bert = classifier(X.tolist())\n",
    "y_pred_bert = [i[\"label\"] for i in results_bert]\n",
    "#print(y_pred_bert[:5])\n",
    "#print(y[:5])\n",
    "#print(y_pred_bert[:5] == y[:5])\n",
    "f1_burt = f1_score(y, y_pred_bert, average=\"macro\")\n",
    "print(f\"F1 Score: {f1_burt:.4f}\")\n",
    "acc_burt = accuracy_score(y, y_pred_bert)\n",
    "print(f\"Accuracy: {acc_burt:.4f}\")"
   ]
  },
  {
   "cell_type": "markdown",
   "metadata": {},
   "source": [
    "### Evaluate RoBERTa"
   ]
  },
  {
   "cell_type": "code",
   "execution_count": null,
   "metadata": {},
   "outputs": [],
   "source": [
    "y_pred_roberta = analyse_sentiment(X.tolist())"
   ]
  }
 ],
 "metadata": {
  "kernelspec": {
   "display_name": "env",
   "language": "python",
   "name": "python3"
  },
  "language_info": {
   "codemirror_mode": {
    "name": "ipython",
    "version": 3
   },
   "file_extension": ".py",
   "mimetype": "text/x-python",
   "name": "python",
   "nbconvert_exporter": "python",
   "pygments_lexer": "ipython3",
   "version": "3.11.9"
  }
 },
 "nbformat": 4,
 "nbformat_minor": 4
}
