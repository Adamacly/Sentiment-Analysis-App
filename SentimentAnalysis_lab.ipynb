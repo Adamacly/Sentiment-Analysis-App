{
 "cells": [
  {
   "cell_type": "markdown",
   "metadata": {},
   "source": [
    " # <center>Sentiment Analysis_Lab3\n"
   ]
  },
  {
   "cell_type": "markdown",
   "metadata": {},
   "source": [
    "### Name : COULIBALY Adama"
   ]
  },
  {
   "cell_type": "markdown",
   "metadata": {},
   "source": [
    "### Objectif : Train your own mini sentiment classifier on the US Airline Tweets dataset.\n",
    "\n",
    "#### You are free to use any approach or a combination of approaches (pre-trained models, traditional machine learning, deep learning)."
   ]
  },
  {
   "cell_type": "markdown",
   "metadata": {},
   "source": [
    "### 🌟 Once you're done, don't forget to add it to your CV:\n",
    "#### Project: Sentiment Analysis on US Airline Tweets\n",
    "#### Tools: Python, pandas, scikit-learn, Hugging Face transformers...."
   ]
  },
  {
   "cell_type": "markdown",
   "metadata": {},
   "source": [
    "### Bonus Tip\n",
    "\n",
    "** Save you final model (.pkl or Hugging Face format) and deploy it.\n",
    "\n",
    "** You can also publish a small portfolio project on you GitHub."
   ]
  },
  {
   "cell_type": "code",
   "execution_count": null,
   "metadata": {},
   "outputs": [],
   "source": [
    "# Import necessary libraries\n",
    "import numpy as np\n",
    "import matplotlib.pyplot as plt\n",
    "import pandas as pd\n",
    "\n",
    "import warnings\n",
    "warnings.filterwarnings(\"ignore\")"
   ]
  },
  {
   "cell_type": "code",
   "execution_count": null,
   "metadata": {},
   "outputs": [],
   "source": [
    "plt.rcParams[\"figure.figsize\"] = (18, 10)\n",
    "plt.style.use(\"fivethirtyeight\")"
   ]
  },
  {
   "cell_type": "code",
   "execution_count": 7,
   "metadata": {},
   "outputs": [
    {
     "data": {
      "text/html": [
       "<div>\n",
       "<style scoped>\n",
       "    .dataframe tbody tr th:only-of-type {\n",
       "        vertical-align: middle;\n",
       "    }\n",
       "\n",
       "    .dataframe tbody tr th {\n",
       "        vertical-align: top;\n",
       "    }\n",
       "\n",
       "    .dataframe thead th {\n",
       "        text-align: right;\n",
       "    }\n",
       "</style>\n",
       "<table border=\"1\" class=\"dataframe\">\n",
       "  <thead>\n",
       "    <tr style=\"text-align: right;\">\n",
       "      <th></th>\n",
       "      <th>Tweets</th>\n",
       "      <th>Manually_Annotated</th>\n",
       "    </tr>\n",
       "  </thead>\n",
       "  <tbody>\n",
       "    <tr>\n",
       "      <th>0</th>\n",
       "      <td>@VirginAmerica What @dhepburn said.</td>\n",
       "      <td>Neutral</td>\n",
       "    </tr>\n",
       "    <tr>\n",
       "      <th>1</th>\n",
       "      <td>@VirginAmerica plus you've added commercials t...</td>\n",
       "      <td>Positive</td>\n",
       "    </tr>\n",
       "    <tr>\n",
       "      <th>2</th>\n",
       "      <td>@VirginAmerica I didn't today... Must mean I n...</td>\n",
       "      <td>Neutral</td>\n",
       "    </tr>\n",
       "    <tr>\n",
       "      <th>3</th>\n",
       "      <td>@VirginAmerica it's really aggressive to blast...</td>\n",
       "      <td>Negative</td>\n",
       "    </tr>\n",
       "    <tr>\n",
       "      <th>4</th>\n",
       "      <td>@VirginAmerica and it's a really big bad thing...</td>\n",
       "      <td>Negative</td>\n",
       "    </tr>\n",
       "  </tbody>\n",
       "</table>\n",
       "</div>"
      ],
      "text/plain": [
       "                                              Tweets Manually_Annotated\n",
       "0                @VirginAmerica What @dhepburn said.            Neutral\n",
       "1  @VirginAmerica plus you've added commercials t...           Positive\n",
       "2  @VirginAmerica I didn't today... Must mean I n...            Neutral\n",
       "3  @VirginAmerica it's really aggressive to blast...           Negative\n",
       "4  @VirginAmerica and it's a really big bad thing...           Negative"
      ]
     },
     "execution_count": 7,
     "metadata": {},
     "output_type": "execute_result"
    }
   ],
   "source": [
    "# Import Data\n",
    "df = pd.read_excel(\"US_Airline_Tweets.xlsx\")\n",
    "df.head()"
   ]
  },
  {
   "cell_type": "code",
   "execution_count": 8,
   "metadata": {},
   "outputs": [
    {
     "data": {
      "text/plain": [
       "(1000, 2)"
      ]
     },
     "execution_count": 8,
     "metadata": {},
     "output_type": "execute_result"
    }
   ],
   "source": [
    "df.shape"
   ]
  },
  {
   "cell_type": "code",
   "execution_count": 9,
   "metadata": {},
   "outputs": [],
   "source": [
    "text1 = df.loc[0, \"Tweets\"]\n",
    "text2 = df.loc[1, \"Tweets\"]\n",
    "text3 = df.loc[3, \"Tweets\"]"
   ]
  },
  {
   "cell_type": "markdown",
   "metadata": {},
   "source": [
    "## Using RoBERTa"
   ]
  },
  {
   "cell_type": "code",
   "execution_count": 10,
   "metadata": {},
   "outputs": [],
   "source": [
    "#! pip install transformers --quiet"
   ]
  },
  {
   "cell_type": "code",
   "execution_count": 11,
   "metadata": {},
   "outputs": [
    {
     "name": "stderr",
     "output_type": "stream",
     "text": [
      "c:\\Users\\ADAMA\\Desktop\\Sentiment analysis\\env\\Lib\\site-packages\\tqdm\\auto.py:21: TqdmWarning: IProgress not found. Please update jupyter and ipywidgets. See https://ipywidgets.readthedocs.io/en/stable/user_install.html\n",
      "  from .autonotebook import tqdm as notebook_tqdm\n"
     ]
    }
   ],
   "source": [
    "from transformers import pipeline"
   ]
  },
  {
   "cell_type": "code",
   "execution_count": 12,
   "metadata": {},
   "outputs": [],
   "source": [
    "#import torch\n",
    "#from transformers import BertModel, BertConfig\n",
    "\n",
    "# Initializing a BERT bert-base-uncased style configuration\n",
    "#configuration = BertConfig()\n",
    "\n",
    "# Initializing a model from the bert-base-uncased style configuration\n",
    "#model = BertModel(configuration)\n",
    "\n",
    "# Accessing the model configuration\n",
    "#configuration = model.config"
   ]
  },
  {
   "cell_type": "code",
   "execution_count": 13,
   "metadata": {},
   "outputs": [
    {
     "name": "stderr",
     "output_type": "stream",
     "text": [
      "No model was supplied, defaulted to distilbert/distilbert-base-uncased-finetuned-sst-2-english and revision 714eb0f (https://huggingface.co/distilbert/distilbert-base-uncased-finetuned-sst-2-english).\n",
      "Using a pipeline without specifying a model name and revision in production is not recommended.\n",
      "Device set to use cpu\n"
     ]
    },
    {
     "name": "stdout",
     "output_type": "stream",
     "text": [
      "Texte : @VirginAmerica What @dhepburn said. Résultat : {'label': 'POSITIVE', 'score': 0.8633629679679871}\n",
      "\n",
      "Texte : @VirginAmerica plus you've added commercials to the experience... tacky. Résultat : {'label': 'POSITIVE', 'score': 0.6070859432220459}\n",
      "\n",
      "Texte : @VirginAmerica it's really aggressive to blast obnoxious \"entertainment\" in your guests' faces &amp; they have little recourse Résultat : {'label': 'NEGATIVE', 'score': 0.9973449110984802}\n",
      "\n"
     ]
    }
   ],
   "source": [
    "#!pip install transformers --quiet\n",
    "\n",
    "from transformers import pipeline\n",
    "\n",
    "# Pipeline d’analyse de sentiments\n",
    "classifier = pipeline(\"sentiment-analysis\")\n",
    "\n",
    "# Exemple\n",
    "texts = [\n",
    "    text1,\n",
    "    text2,\n",
    "    text3\n",
    "]\n",
    "\n",
    "results = classifier(texts)\n",
    "for text, result in zip(texts, results):\n",
    "    print(f\"Texte : {text} Résultat : {result}\\n\")"
   ]
  },
  {
   "cell_type": "code",
   "execution_count": 70,
   "metadata": {},
   "outputs": [
    {
     "name": "stdout",
     "output_type": "stream",
     "text": [
      "The history saving thread hit an unexpected error (OperationalError('database or disk is full')).History will not be written to the database.\n"
     ]
    },
    {
     "name": "stderr",
     "output_type": "stream",
     "text": [
      "Device set to use cpu\n"
     ]
    },
    {
     "name": "stdout",
     "output_type": "stream",
     "text": [
      "Texte : @VirginAmerica What @dhepburn said. Résultat : Neutral (0.80)\n",
      "\n",
      "Texte : @VirginAmerica plus you've added commercials to the experience... tacky. Résultat : Negative (0.83)\n",
      "\n",
      "Texte : @VirginAmerica it's really aggressive to blast obnoxious \"entertainment\" in your guests' faces &amp; they have little recourse Résultat : Negative (0.90)\n",
      "\n"
     ]
    }
   ],
   "source": [
    "#! pip install tensorflow --quiet\n",
    "\n",
    "# Initialisation du pipeline pour l'analyse de sentiment avec RoBERTa\n",
    "analyse_sentiment = pipeline(\"sentiment-analysis\", model=\"cardiffnlp/twitter-roberta-base-sentiment\")\n",
    "\n",
    "# Exemple\n",
    "texts = [\n",
    "    text1,\n",
    "    text2,\n",
    "    text3\n",
    "]\n",
    "\n",
    "label_map = {\n",
    "    'LABEL_0': 'Negative',\n",
    "    'LABEL_1': 'Neutral',\n",
    "    'LABEL_2': 'Positive'\n",
    "}\n",
    "\n",
    "results = analyse_sentiment(texts)\n",
    "for text, result in zip(texts, results):\n",
    "    label = label_map[result['label']]\n",
    "    score = result['score']\n",
    "    result = f\"{label} ({score:.2f})\"\n",
    "    print(f\"Texte : {text} Résultat : {result}\\n\")"
   ]
  },
  {
   "cell_type": "code",
   "execution_count": 15,
   "metadata": {},
   "outputs": [],
   "source": [
    "X = df[\"Tweets\"]\n",
    "y = df[\"Manually_Annotated\"]"
   ]
  },
  {
   "cell_type": "markdown",
   "metadata": {},
   "source": [
    "### Evaluate BERT Model"
   ]
  },
  {
   "cell_type": "code",
   "execution_count": 30,
   "metadata": {},
   "outputs": [],
   "source": [
    "from sklearn.metrics import classification_report, confusion_matrix \n",
    "from sklearn.metrics import accuracy_score, f1_score, precision_score, recall_score\n",
    "from sklearn.metrics import ConfusionMatrixDisplay  \n",
    "import matplotlib.pyplot as plt\n",
    "import seaborn as sns\n",
    "import numpy as np"
   ]
  },
  {
   "cell_type": "code",
   "execution_count": 24,
   "metadata": {},
   "outputs": [],
   "source": [
    "results_bert = classifier(X.tolist())\n",
    "y_pred_bert = [i[\"label\"] for i in results_bert]\n",
    "#print(y_pred_bert[:5])\n",
    "#print(y[:5])\n",
    "#print(y_pred_bert[:5] == y[:5])"
   ]
  },
  {
   "cell_type": "code",
   "execution_count": 50,
   "metadata": {},
   "outputs": [
    {
     "data": {
      "text/plain": [
       "Text(0.5, 1.0, 'Metrics for Pretrained Model BERT')"
      ]
     },
     "execution_count": 50,
     "metadata": {},
     "output_type": "execute_result"
    },
    {
     "data": {
      "image/png": "[encoded data removed]",
      "text/plain": [
       "<Figure size 1800x1000 with 1 Axes>"
      ]
     },
     "metadata": {},
     "output_type": "display_data"
    }
   ],
   "source": [
    "f1_burt = f1_score(y.str.upper().tolist(), y_pred_bert, average=\"macro\")\n",
    "#print(f\"F1 Score:           {f1_burt:.4f}\")\n",
    "acc_burt = accuracy_score(y.str.upper().tolist(), y_pred_bert)\n",
    "#print(f\"Accuracy:           {acc_burt:.4f}\")\n",
    "precision_score_burt = precision_score(y.str.upper().tolist(), y_pred_bert, average=\"macro\")\n",
    "#print(f\"Precision:          {precision_score_burt:.4f}\")\n",
    "recall_score_burt = recall_score(y.str.upper().tolist(), y_pred_bert, average=\"macro\")\n",
    "#print(f\"Recall:             {recall_score_burt:.4f}\")\n",
    "dict_burt = {\n",
    "    \"F1 Score\": f1_burt,\n",
    "    \"Accuracy\": acc_burt,\n",
    "    \"Precision\": precision_score_burt,\n",
    "    \"Recall\": recall_score_burt\n",
    "}\n",
    "\n",
    "sns.barplot(y=list(dict_burt.keys()), x=list(dict_burt.values()), hue=list(dict_burt.keys()), palette=\"Reds\")\n",
    "plt.title(\"Metrics for Pretrained Model BERT\")"
   ]
  },
  {
   "cell_type": "markdown",
   "metadata": {},
   "source": [
    "### Evaluate RoBERTa"
   ]
  },
  {
   "cell_type": "code",
   "execution_count": 72,
   "metadata": {},
   "outputs": [
    {
     "name": "stdout",
     "output_type": "stream",
     "text": [
      "['Neutral', 'Negative', 'Neutral', 'Negative', 'Negative']\n",
      "0     Neutral\n",
      "1    Positive\n",
      "2     Neutral\n",
      "3    Negative\n",
      "4    Negative\n",
      "Name: Manually_Annotated, dtype: object\n",
      "0     True\n",
      "1    False\n",
      "2     True\n",
      "3     True\n",
      "4     True\n",
      "Name: Manually_Annotated, dtype: bool\n"
     ]
    }
   ],
   "source": [
    "results_roberta = analyse_sentiment(X.tolist())\n",
    "y_pred_roberta = [label_map[i[\"label\"]] for i in results_roberta]\n",
    "print(y_pred_roberta[:5])\n",
    "print(y[:5])\n",
    "print(y_pred_roberta[:5] == y[:5])"
   ]
  },
  {
   "cell_type": "code",
   "execution_count": null,
   "metadata": {},
   "outputs": [
    {
     "data": {
      "text/plain": [
       "Text(0.5, 1.0, 'Metrics for Pretrained Model RoBERTa')"
      ]
     },
     "execution_count": 76,
     "metadata": {},
     "output_type": "execute_result"
    },
    {
     "data": {
      "image/png": "[encoded data removed]",
      "text/plain": [
       "<Figure size 1800x1000 with 1 Axes>"
      ]
     },
     "metadata": {},
     "output_type": "display_data"
    }
   ],
   "source": [
    "f1_roberta = f1_score(y.tolist(), y_pred_roberta, average=\"macro\")\n",
    "#print(f\"F1 Score:           {f1_burt:.4f}\")\n",
    "acc_roberta = accuracy_score(y.tolist(), y_pred_roberta)\n",
    "#print(f\"Accuracy:           {acc_burt:.4f}\")\n",
    "precision_score_roberta = precision_score(y.tolist(), y_pred_roberta, average=\"macro\")\n",
    "#print(f\"Precision:          {precision_score_burt:.4f}\")\n",
    "recall_score_roberta = recall_score(y.tolist(), y_pred_roberta, average=\"macro\")\n",
    "#print(f\"Recall:             {recall_score_burt:.4f}\")\n",
    "dict_roburta = {\n",
    "    \"F1 Score\": f1_roberta,\n",
    "    \"Accuracy\": acc_roberta,\n",
    "    \"Precision\": precision_score_roberta,\n",
    "    \"Recall\": recall_score_roberta\n",
    "}\n",
    "\n",
    "sns.barplot(y=list(dict_roburta.keys()), x=list(dict_roburta.values()), hue=list(dict_roburta.keys()), palette=\"BlueU/H&FT%s\")\n",
    "plt.title(\"Metrics for Pretrained Model RoBERTa\")"
   ]
  }
 ],
 "metadata": {
  "kernelspec": {
   "display_name": "env",
   "language": "python",
   "name": "python3"
  },
  "language_info": {
   "codemirror_mode": {
    "name": "ipython",
    "version": 3
   },
   "file_extension": ".py",
   "mimetype": "text/x-python",
   "name": "python",
   "nbconvert_exporter": "python",
   "pygments_lexer": "ipython3",
   "version": "3.11.9"
  }
 },
 "nbformat": 4,
 "nbformat_minor": 4
}
